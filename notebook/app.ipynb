{
 "cells": [
  {
   "cell_type": "markdown",
   "metadata": {},
   "source": [
    "# BOSS Textract NER\n",
    "\n",
    "Você está preste a utilizar o [BOSS Textract NER](https://github.com/RyanPrado/BOSS-Textract-NER), lembre-se que para utiliza-lo, um modelo treino é necessário, caso não tenha treinado um modelo ainda, de uma olhada [aqui](https://github.com/RyanPrado/BOSS-Textract-NER/blob/main/README.md), abaixo você verá uma inicialização de uso em massa, sinta-se a vontade para modificar como desejar!"
   ]
  },
  {
   "cell_type": "markdown",
   "metadata": {},
   "source": [
    "## Adicionando a aplicação para ser lida pelo Kernel"
   ]
  },
  {
   "cell_type": "code",
   "execution_count": null,
   "metadata": {
    "vscode": {
     "languageId": "shellscript"
    }
   },
   "outputs": [],
   "source": [
    "import os\n",
    "import sys\n",
    "os.chdir(os.path.expanduser(\"../\"))"
   ]
  },
  {
   "cell_type": "markdown",
   "metadata": {},
   "source": [
    "## Importando bibliotecas necessárias para utilização deste notebook"
   ]
  },
  {
   "cell_type": "code",
   "execution_count": null,
   "metadata": {
    "vscode": {
     "languageId": "shellscript"
    }
   },
   "outputs": [],
   "source": [
    "from IPython.core.display import display, HTML\n",
    "from IPython.display import IFrame\n",
    "import time\n",
    "from pathlib import Path\n",
    "from boss_textract.utils import SEPARATORS\n",
    "from boss_textract.utils.logger import logger\n",
    "import pandas as pd\n",
    "import re\n",
    "TODAY_TIME=time.strftime('%d-%m-%Y_%Hh%M')"
   ]
  },
  {
   "cell_type": "markdown",
   "metadata": {},
   "source": [
    "## Declarando variáveis de utilização\n",
    "* **input_path** `<dir|file|glob>` : Caminho para acessar o(s) arquivo(s) para ser(em) processado(s);\n",
    "* **output_path** `<dir|file>` : Caminho de saída do(s) arquivo(s) processado(s);\n",
    "* **model_path** `<dir>` : Diretório do modelo a ser utilização para predição;\n",
    "* **source_column** `<str>` : Nome da coluna de origem dentro do(s) arquivo(s) a ser(em) processado(s);\n",
    "* **output_column** `<str>` : Nome da coluna de saída a ser criada dentro do(s) arquivo(s) a ser(em) processado(s);\n",
    "* **separator** `<str>` : Separator a ser utilizado pelo(s) arquivo(s) [TAB;COMMA;SEMICOLON;PIPE];\n",
    "* **dictionary_file** `<file>` : Arquivo de dicionário a ser utilizado no pós-processamento;"
   ]
  },
  {
   "cell_type": "markdown",
   "metadata": {},
   "source": [
    "### dictionary_file\n",
    "\n",
    "Este arquivo deve ser um `.csv` separado por `;`, deve conter duas colunas `FROM` e `TO`:\n",
    "* `FROM` - Pode ser um REGEX para realizar a verificação nos textos tanto de origem quanto de saída, caso o texto de saída seja vazio, ele procurará no texto de origem, também pode receber um `tag`;\n",
    "* `TO` - Texto de saída, caso o padrão de `FROM` for encontrado este texto sumirá a posição do texto de saída;\n",
    "\n",
    "#### TAGs\n",
    "`<INVOICE value='{INVOICE NUMBER}>'` - Este é um exemplo de tag que `FROM` pode receber, substitua `{INVOICE NUMBER}` pelo valor ou por um regex, sua esquema de leitura poderá ser feito mais abaixo na função [`def process_dictionary`](App.ipynb#declarando-função-de-pós-processamento)"
   ]
  },
  {
   "cell_type": "code",
   "execution_count": null,
   "metadata": {
    "vscode": {
     "languageId": "shellscript"
    }
   },
   "outputs": [],
   "source": [
    "input_path=\"<WRITE HERE>\"       #   Ex. /home/usr/example_dir/*.csv\n",
    "output_path=\"<WRITE HERE>\"      #   Ex. /home/usr/example_dir_output\n",
    "model_path=\"<WRITE HERE>\"       #   Ex. /home/usr/models/best-model\n",
    "source_column=\"<WRITE HERE>\"    #   Ex. SOURCE\n",
    "output_column=\"<WRITE HERE>\"    #   Ex. SOURCE_RESPONSE\n",
    "separator=\"<WRITE HERE>\"        #   Ex. TAB\n",
    "dictionary_file=\"<WRITE HERE>\"  #   Ex. /home/user/dictionary_dir/my_dict.csv"
   ]
  },
  {
   "cell_type": "markdown",
   "metadata": {},
   "source": [
    "## Convertendo variáveis & lendo arquivos a serem processados"
   ]
  },
  {
   "cell_type": "code",
   "execution_count": null,
   "metadata": {
    "vscode": {
     "languageId": "shellscript"
    }
   },
   "outputs": [],
   "source": [
    "output_path = Path(output_path)\n",
    "if output_path.name != f\"NER_{TODAY_TIME}\":\n",
    "    output_path = output_path / f\"NER_{TODAY_TIME}\"\n",
    "if not output_path.exists():\n",
    "    output_path.mkdir(parents=True, exist_ok=True)\n",
    "    \n",
    "model_path = Path(model_path)\n",
    "\n",
    "files_paths = []\n",
    "if os.name == \"posix\" and input_path[0] == \"/\":\n",
    "    files_paths = list(Path('/').glob(input_path[1:]))\n",
    "elif os.name == \"nt\" and re.search(r\"[aA-zZ]\\:(\\\\|//)\",input_path):\n",
    "    input_path = re.sub(r\"\\\\\",\"/\",input_path)\n",
    "    files_paths = list(Path(f'{input_path[0]}:/').glob(input_path[3:]))\n",
    "else:\n",
    "    input_path = list(Path('.').glob(input_path))\n",
    "\n",
    "logger.info(f\"File(s) processing: {len(files_paths)}\")"
   ]
  },
  {
   "cell_type": "markdown",
   "metadata": {},
   "source": [
    "## Realizando predição dos arquivos através do modelo"
   ]
  },
  {
   "cell_type": "code",
   "execution_count": null,
   "metadata": {
    "vscode": {
     "languageId": "shellscript"
    }
   },
   "outputs": [],
   "source": [
    "for file in files_paths:\n",
    "    try:\n",
    "        file_path = file.absolute()\n",
    "        logger.info(f\"Starting processing: {file_path}\")\n",
    "        !uv run boss_textract predict --data=\"$file_path\" --model=\"$model_path\" --output=\"$output_path\" --gpu_id=0 --src_col=\"$source_column\" --out_col=\"$output_column\" --sep=\"$separator\" --no-log\n",
    "    except Exception as e:\n",
    "        exception = sys.exc_info()\n",
    "        logger.opt(exception=exception).error(e)"
   ]
  },
  {
   "cell_type": "markdown",
   "metadata": {},
   "source": [
    "## Declarando função de pós-processamento\n",
    "\n",
    "A função abaixo realiza o pós-processamento baseado no dicionario informado anteriormente, seu objetivo é limpar pois sujeiras no resultados e também realizar um formatação para alguns itens que não podem ser bem extraídos pelo modelo.\n",
    "`df_regex` - é referenciado pela variável `dictionary_file` porém aqui o arquivo foi lido como um `pd.DataFrame`."
   ]
  },
  {
   "cell_type": "code",
   "execution_count": null,
   "metadata": {
    "vscode": {
     "languageId": "shellscript"
    }
   },
   "outputs": [],
   "source": [
    "def process_dictionary(row, df_regex):\n",
    "    for _, regex_row in df_regex.iterrows():\n",
    "        from_text = regex_row['FROM']\n",
    "        to_text = regex_row['TO']\n",
    "        source_text = row[source_column]\n",
    "        output_text = row[output_column]\n",
    "        is_invoice = False\n",
    "\n",
    "        if re.search(r\"\\<INVOICE\\svalue=\\'.*\\'\\>\",from_text):\n",
    "            start_idx = from_text.find(\"value='\") + 7\n",
    "            end_idx = from_text.find(\"'\",start_idx)\n",
    "            invoice = from_text[start_idx:end_idx]\n",
    "            from_text = r\"(MEMO)?(?(1)\\s{invoice}|INV(?:OICE)?(?:\\.|\\s\\-)?\\s?(?:{invoice}))\".format(invoice=invoice)\n",
    "            is_invoice = True\n",
    "\n",
    "        if isinstance(to_text, str):\n",
    "            to_text = to_text.upper()\n",
    "        if isinstance(source_text, str):\n",
    "            source_text = source_text.upper()\n",
    "        if isinstance(output_text, str):\n",
    "            output_text = output_text.upper()\n",
    "\n",
    "        if (is_invoice and re.search(from_text, source_text, re.IGNORECASE)) or (not is_invoice and pd.isna(output_text) and re.search(from_text, source_text, re.IGNORECASE)) or (not is_invoice and not pd.isna(output_text) and re.search(from_text, output_text, re.IGNORECASE)):\n",
    "            row[output_column] = to_text\n",
    "            break\n",
    "    return row"
   ]
  },
  {
   "cell_type": "code",
   "execution_count": null,
   "metadata": {
    "vscode": {
     "languageId": "shellscript"
    }
   },
   "outputs": [],
   "source": [
    "df_regex = pd.read_csv(Path(dictionary_file).absolute(), sep=\";\", encoding=\"utf-8\",index_col=False)"
   ]
  },
  {
   "cell_type": "markdown",
   "metadata": {},
   "source": [
    "## Pós Processamento dos arquivos\n",
    "\n",
    "Realiza o pós processamento em todos os arquivos presentes no diretório de saída"
   ]
  },
  {
   "cell_type": "code",
   "execution_count": null,
   "metadata": {
    "vscode": {
     "languageId": "shellscript"
    }
   },
   "outputs": [],
   "source": [
    "for file in output_path.iterdir():\n",
    "    logger.info(f\"Pós Processando: {file.absolute()}\")\n",
    "    try:\n",
    "        df = pd.read_csv(file.absolute(), sep=SEPARATORS.get(separator),encoding=\"utf-8\",index_col=False)\n",
    "        df = df.apply(process_dictionary, axis=1, args=(df_regex,))\n",
    "        logger.success(f\"Pós Processado: {file.absolute()}\")\n",
    "        df.to_csv(file.absolute(),sep=SEPARATORS.get(separator),encoding=\"utf-8\",index=False)\n",
    "        del df\n",
    "    except Exception as e:\n",
    "        exception = sys.exc_info()\n",
    "        logger.opt(exception=exception).error(e)"
   ]
  }
 ],
 "metadata": {
  "kernelspec": {
   "display_name": ".venv",
   "language": "python",
   "name": "python3"
  },
  "language_info": {
   "codemirror_mode": {
    "name": "ipython",
    "version": 3
   },
   "file_extension": ".py",
   "mimetype": "text/x-python",
   "name": "python",
   "nbconvert_exporter": "python",
   "pygments_lexer": "ipython3",
   "version": "3.12.3"
  }
 },
 "nbformat": 4,
 "nbformat_minor": 2
}
